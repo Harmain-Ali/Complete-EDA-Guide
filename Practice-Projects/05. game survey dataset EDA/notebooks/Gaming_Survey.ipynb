{
 "cells": [
  {
   "cell_type": "markdown",
   "metadata": {},
   "source": [
    "<div \n",
    "style=\"\n",
    "font-family: 'Roboto', sans-serif;\n",
    "color:white;\n",
    "background-color:#3f37c9;\n",
    "padding:1%;\n",
    "border-radius:10px;\n",
    "font-size:2em;\n",
    "text-align:center\n",
    "\">\n",
    "GAMING SURVEY DATASET\n",
    "</div>\n"
   ]
  },
  {
   "cell_type": "markdown",
   "metadata": {},
   "source": [
    "<div \n",
    "style=\"\n",
    "/* color:white;\n",
    "background-color:#141414; */\n",
    "color:black;\n",
    "background-color:#d9d9d9;\n",
    "border-radius:10px;\n",
    "padding:1%;\n",
    "font-size:1em;\n",
    "border: 1px solid #3f37c9;\n",
    "\"> \n",
    "📍 <b>NOTE</b>: This notebook is intended to :\n",
    "<ul>\n",
    "    <li>Provide exhaustive and comprehensive EDA on GAMING SURVEY DATASET dataset </li>\n",
    "    <li>Discuss the data-driven insights to the GAMING SURVEY DATASET dataset</li>\n",
    "</ul></div>"
   ]
  },
  {
   "cell_type": "markdown",
   "metadata": {},
   "source": [
    "<div \n",
    "style=\"\n",
    "/* color:white;\n",
    "background-color:#141414; */\n",
    "color:black;\n",
    "background-color:#d9d9d9;\n",
    "border-radius:10px;\n",
    "padding:1%;\n",
    "font-size:1em;\n",
    "border: 1px solid #3f37c9;\n",
    "\"> \n",
    "🔗 <b>Dataset link:</b> <a href=\"https://www.kaggle.com/datasets/pranshudev/gaming-preferences-and-habits-player-survey-2024\">Click to download Dataset!</a>\n",
    "</div>"
   ]
  },
  {
   "cell_type": "markdown",
   "metadata": {},
   "source": [
    "<div \n",
    "style=\"\n",
    "/* color:white;\n",
    "background-color:#141414; */\n",
    "color:black;\n",
    "background-color:#d9d9d9;\n",
    "border-radius:10px;\n",
    "padding:1%;\n",
    "font-size:1em;\n",
    "border: 1px solid #3f37c9;\n",
    "\"> \n",
    "⚓ <b>About the Dataset</b></br>\n",
    "<ol>\n",
    "<li><strong>School</strong>: Name of the school attended (e.g., MS).</li>\n",
    "<li><strong>Gender</strong>: Gender of the student (e.g., M for Male, F for Female).</li>\n",
    "<li><strong>Age</strong>: Age of the student.</li>\n",
    "<li><strong>Address</strong>: Type of residence (U for urban, R for rural).</li>\n",
    "<li><strong>Family_Size</strong>: Size of the family (GT3 for greater than 3, LE3 for less than or equal to 3).</li>\n",
    "<li><strong>Parental_Status</strong>: Living arrangement of parents (A  for living apart , T for living together).</li>\n",
    "<li><strong>Mother_Education</strong>: Education level of the mother (0 to 4).</li>\n",
    "<li><strong>Father_Education</strong>: Education level of the father (0 to 4).</li>\n",
    "<li><strong>Mother_Job</strong>: Type of job held by the mother.</li>\n",
    "<li><strong>Father_Job</strong>: Type of job held by the father.</li>\n",
    "<li><strong>Reason_for_Choosing_School</strong>: Reason for selecting the school (e.g., course).</li>\n",
    "<li><strong>Guardian</strong>: Guardian of the student (e.g., mother).</li>\n",
    "<li><strong>Travel_Time</strong>: Time taken to travel to school (in minutes).</li>\n",
    "<li><strong>Study_Time</strong>: Weekly study hours (1 to 4).</li>\n",
    "<li><strong>Number_of_Failures</strong>: Number of past class failures.</li>\n",
    "<li><strong>School_Support</strong>: Whether the student receives extra educational support (yes/no).</li>\n",
    "<li><strong>Family_Support</strong>: Family provided educational support (yes/no).</li>\n",
    "<li><strong>Extra_Paid_Class</strong>: Participation in extra paid classes (yes/no).</li>\n",
    "<li><strong>Extra_Curricular_Activities</strong>: Involvement in extracurricular activities (yes/no).</li>\n",
    "<li><strong>Attended_Nursery</strong>: Attendance in nursery school (yes/no).</li>\n",
    "<li><strong>Wants_Higher_Education</strong>: Desire to pursue higher education (yes/no).</li>\n",
    "<li><strong>Internet_Access</strong>: Availability of internet at home (yes/no).</li>\n",
    "<li><strong>In_Relationship</strong>: Romantic relationship status (yes/no).</li>\n",
    "<li><strong>Family_Relationship</strong>: Quality of family relationships (scale 1 to 5).</li>\n",
    "<li><strong>Free_Time</strong>: Amount of free time after school (scale 1 to 5).</li>\n",
    "<li><strong>Going_Out</strong>: Frequency of going out with friends (scale 1 to 5).</li>\n",
    "<li><strong>Weekend_Alcohol_Consumption</strong>: Alcohol consumption on weekends (scale 1 to 5).</li>\n",
    "<li><strong>Weekday_Alcohol_Consumption</strong>: Alcohol consumption on weekdays (scale 1 to 5).</li>\n",
    "<li><strong>Health_Status</strong>: Health rating of the student (scale 1 to 5).</li>\n",
    "<li><strong>Number_of_Absences</strong>: Total number of absences from school.</li>\n",
    "<li><strong>Grade_1</strong>: Grade received in the first assessment.</li>\n",
    "<li><strong>Grade_2</strong>: Grade received in the second assessment.</li>\n",
    "<li><strong>Final_Grade</strong>: Final grade received (G3).</li>\n",
    "<li><strong>Dropped_Out</strong>: Indicator of whether the student has dropped out (True/False).</li>\n",
    "</ol></div></div>\n",
    "</div>"
   ]
  },
  {
   "cell_type": "code",
   "execution_count": 146,
   "metadata": {},
   "outputs": [],
   "source": [
    "import numpy as np\n",
    "import pandas as pd\n",
    "import matplotlib.pyplot as plt\n",
    "import matplotlib as mpl\n",
    "import seaborn as sns\n",
    "import plotly.graph_objects as go\n",
    "import plotly.subplots as sp"
   ]
  },
  {
   "cell_type": "markdown",
   "metadata": {},
   "source": [
    "<div \n",
    "style=\"\n",
    "font-family: 'Roboto', sans-serif;\n",
    "color:white;\n",
    "background-color:#3f37c9;\n",
    "padding:1%;\n",
    "border-radius:10px;\n",
    "font-size:2em;\n",
    "text-align:center\n",
    "\">\n",
    "Initial Data Inspection\n",
    "</div>"
   ]
  },
  {
   "cell_type": "code",
   "execution_count": 147,
   "metadata": {},
   "outputs": [],
   "source": [
    "dataframe = pd.read_excel('..\\\\data\\\\raw\\\\Gaming_Survey.xlsx')"
   ]
  },
  {
   "cell_type": "code",
   "execution_count": 148,
   "metadata": {},
   "outputs": [],
   "source": [
    "df = dataframe.copy()"
   ]
  },
  {
   "cell_type": "code",
   "execution_count": 149,
   "metadata": {},
   "outputs": [
    {
     "data": {
      "text/html": [
       "<div>\n",
       "<style scoped>\n",
       "    .dataframe tbody tr th:only-of-type {\n",
       "        vertical-align: middle;\n",
       "    }\n",
       "\n",
       "    .dataframe tbody tr th {\n",
       "        vertical-align: top;\n",
       "    }\n",
       "\n",
       "    .dataframe thead th {\n",
       "        text-align: right;\n",
       "    }\n",
       "</style>\n",
       "<table border=\"1\" class=\"dataframe\">\n",
       "  <thead>\n",
       "    <tr style=\"text-align: right;\">\n",
       "      <th></th>\n",
       "      <th>Timestamp</th>\n",
       "      <th>Age</th>\n",
       "      <th>Gender</th>\n",
       "      <th>Location</th>\n",
       "      <th>How often do you play video games?</th>\n",
       "      <th>How many hours do you typically spend gaming in a week?</th>\n",
       "      <th>Which device do you play games on the most?(Check all that apply)</th>\n",
       "      <th>What genres of video games do you play? (Check all that apply)</th>\n",
       "      <th>What is your favorite game?</th>\n",
       "      <th>How do you discover new games? (Check all that apply)</th>\n",
       "      <th>...</th>\n",
       "      <th>Why do you play video games? (Check all that apply)</th>\n",
       "      <th>How often do you play video games?</th>\n",
       "      <th>How many hours do you typically spend gaming in a week?</th>\n",
       "      <th>Which device do you play games on the most?(Check all that apply)</th>\n",
       "      <th>What genres of video games do you play? (Check all that apply)</th>\n",
       "      <th>What is your favorite game?</th>\n",
       "      <th>How do you discover new games? (Check all that apply)</th>\n",
       "      <th>Do you prefer single-player or multiplayer games?</th>\n",
       "      <th>How much do you spend on gaming monthly (including in-game purchases, new games, etc.)?</th>\n",
       "      <th>Why do you play video games? (Check all that apply)</th>\n",
       "    </tr>\n",
       "  </thead>\n",
       "  <tbody>\n",
       "    <tr>\n",
       "      <th>0</th>\n",
       "      <td>2024-10-24 13:09:27.109</td>\n",
       "      <td>18</td>\n",
       "      <td>Male</td>\n",
       "      <td>Bangalore</td>\n",
       "      <td>Daily</td>\n",
       "      <td>10-20 hours</td>\n",
       "      <td>Mobile</td>\n",
       "      <td>Sports</td>\n",
       "      <td>FC MOBILE</td>\n",
       "      <td>Social Media, Gaming Forums</td>\n",
       "      <td>...</td>\n",
       "      <td>For fun/entertainment, To relieve stress</td>\n",
       "      <td>NaN</td>\n",
       "      <td>NaN</td>\n",
       "      <td>NaN</td>\n",
       "      <td>NaN</td>\n",
       "      <td>NaN</td>\n",
       "      <td>NaN</td>\n",
       "      <td>NaN</td>\n",
       "      <td>NaN</td>\n",
       "      <td>NaN</td>\n",
       "    </tr>\n",
       "    <tr>\n",
       "      <th>1</th>\n",
       "      <td>2024-10-24 13:09:34.343</td>\n",
       "      <td>19</td>\n",
       "      <td>Male</td>\n",
       "      <td>Hell road , Bangalore</td>\n",
       "      <td>Rarely/Never</td>\n",
       "      <td>0</td>\n",
       "      <td>Mobile</td>\n",
       "      <td>Puzzle/Strategy, Simulation (e.g., The Sims)</td>\n",
       "      <td>Wukong</td>\n",
       "      <td>Social Media</td>\n",
       "      <td>...</td>\n",
       "      <td>To improve skills/competition</td>\n",
       "      <td>NaN</td>\n",
       "      <td>NaN</td>\n",
       "      <td>NaN</td>\n",
       "      <td>NaN</td>\n",
       "      <td>NaN</td>\n",
       "      <td>NaN</td>\n",
       "      <td>NaN</td>\n",
       "      <td>NaN</td>\n",
       "      <td>NaN</td>\n",
       "    </tr>\n",
       "    <tr>\n",
       "      <th>2</th>\n",
       "      <td>2024-10-24 13:23:13.403</td>\n",
       "      <td>19</td>\n",
       "      <td>Male</td>\n",
       "      <td>Bangalore</td>\n",
       "      <td>Rarely/Never</td>\n",
       "      <td>More than 20 hours</td>\n",
       "      <td>Console (PlayStation, Xbox, etc.)</td>\n",
       "      <td>First-Person Shooter (FPS)</td>\n",
       "      <td>Call of duty</td>\n",
       "      <td>Gaming Forums</td>\n",
       "      <td>...</td>\n",
       "      <td>For fun/entertainment</td>\n",
       "      <td>NaN</td>\n",
       "      <td>NaN</td>\n",
       "      <td>NaN</td>\n",
       "      <td>NaN</td>\n",
       "      <td>NaN</td>\n",
       "      <td>NaN</td>\n",
       "      <td>NaN</td>\n",
       "      <td>NaN</td>\n",
       "      <td>NaN</td>\n",
       "    </tr>\n",
       "    <tr>\n",
       "      <th>3</th>\n",
       "      <td>2024-10-24 13:30:42.445</td>\n",
       "      <td>18</td>\n",
       "      <td>Female</td>\n",
       "      <td>Banglore</td>\n",
       "      <td>Rarely/Never</td>\n",
       "      <td>Less than 5 hours</td>\n",
       "      <td>Mobile</td>\n",
       "      <td>Puzzle/Strategy</td>\n",
       "      <td>Subway</td>\n",
       "      <td>Social Media</td>\n",
       "      <td>...</td>\n",
       "      <td>For fun/entertainment</td>\n",
       "      <td>NaN</td>\n",
       "      <td>NaN</td>\n",
       "      <td>NaN</td>\n",
       "      <td>NaN</td>\n",
       "      <td>NaN</td>\n",
       "      <td>NaN</td>\n",
       "      <td>NaN</td>\n",
       "      <td>NaN</td>\n",
       "      <td>NaN</td>\n",
       "    </tr>\n",
       "    <tr>\n",
       "      <th>4</th>\n",
       "      <td>2024-10-24 13:32:26.815</td>\n",
       "      <td>18</td>\n",
       "      <td>Female</td>\n",
       "      <td>Banglore, Karnataka</td>\n",
       "      <td>Daily</td>\n",
       "      <td>Less than 5 hours</td>\n",
       "      <td>PC, Mobile</td>\n",
       "      <td>Action/Adventure, First-Person Shooter (FPS), ...</td>\n",
       "      <td>Solo leveling arise</td>\n",
       "      <td>Friends/Family Recommendations</td>\n",
       "      <td>...</td>\n",
       "      <td>For fun/entertainment, To relieve stress, To s...</td>\n",
       "      <td>NaN</td>\n",
       "      <td>NaN</td>\n",
       "      <td>NaN</td>\n",
       "      <td>NaN</td>\n",
       "      <td>NaN</td>\n",
       "      <td>NaN</td>\n",
       "      <td>NaN</td>\n",
       "      <td>NaN</td>\n",
       "      <td>NaN</td>\n",
       "    </tr>\n",
       "  </tbody>\n",
       "</table>\n",
       "<p>5 rows × 22 columns</p>\n",
       "</div>"
      ],
      "text/plain": [
       "                Timestamp  Age  Gender                Location  \\\n",
       "0 2024-10-24 13:09:27.109   18    Male               Bangalore   \n",
       "1 2024-10-24 13:09:34.343   19    Male  Hell road , Bangalore    \n",
       "2 2024-10-24 13:23:13.403   19    Male               Bangalore   \n",
       "3 2024-10-24 13:30:42.445   18  Female                Banglore   \n",
       "4 2024-10-24 13:32:26.815   18  Female    Banglore, Karnataka    \n",
       "\n",
       "    How often do you play video games?    \\\n",
       "0                                  Daily   \n",
       "1                           Rarely/Never   \n",
       "2                           Rarely/Never   \n",
       "3                           Rarely/Never   \n",
       "4                                  Daily   \n",
       "\n",
       "    How many hours do you typically spend gaming in a week?    \\\n",
       "0                                        10-20 hours            \n",
       "1                                                  0            \n",
       "2                                 More than 20 hours            \n",
       "3                                  Less than 5 hours            \n",
       "4                                  Less than 5 hours            \n",
       "\n",
       "    Which device do you play games on the most?(Check all that apply)    \\\n",
       "0                                             Mobile                      \n",
       "1                                             Mobile                      \n",
       "2                  Console (PlayStation, Xbox, etc.)                      \n",
       "3                                             Mobile                      \n",
       "4                                         PC, Mobile                      \n",
       "\n",
       "  What genres of video games do you play? (Check all that apply)    \\\n",
       "0                                             Sports                 \n",
       "1       Puzzle/Strategy, Simulation (e.g., The Sims)                 \n",
       "2                         First-Person Shooter (FPS)                 \n",
       "3                                    Puzzle/Strategy                 \n",
       "4  Action/Adventure, First-Person Shooter (FPS), ...                 \n",
       "\n",
       "    What is your favorite game?    \\\n",
       "0                       FC MOBILE   \n",
       "1                         Wukong    \n",
       "2                    Call of duty   \n",
       "3                          Subway   \n",
       "4            Solo leveling arise    \n",
       "\n",
       "  How do you discover new games? (Check all that apply)    ...  \\\n",
       "0                        Social Media, Gaming Forums       ...   \n",
       "1                                       Social Media       ...   \n",
       "2                                      Gaming Forums       ...   \n",
       "3                                       Social Media       ...   \n",
       "4                     Friends/Family Recommendations       ...   \n",
       "\n",
       "  Why do you play video games? (Check all that apply)    \\\n",
       "0           For fun/entertainment, To relieve stress      \n",
       "1                      To improve skills/competition      \n",
       "2                              For fun/entertainment      \n",
       "3                              For fun/entertainment      \n",
       "4  For fun/entertainment, To relieve stress, To s...      \n",
       "\n",
       "  How often do you play video games?  \\\n",
       "0                                NaN   \n",
       "1                                NaN   \n",
       "2                                NaN   \n",
       "3                                NaN   \n",
       "4                                NaN   \n",
       "\n",
       "  How many hours do you typically spend gaming in a week?  \\\n",
       "0                                                NaN        \n",
       "1                                                NaN        \n",
       "2                                                NaN        \n",
       "3                                                NaN        \n",
       "4                                                NaN        \n",
       "\n",
       "  Which device do you play games on the most?(Check all that apply)  \\\n",
       "0                                                NaN                  \n",
       "1                                                NaN                  \n",
       "2                                                NaN                  \n",
       "3                                                NaN                  \n",
       "4                                                NaN                  \n",
       "\n",
       "  What genres of video games do you play? (Check all that apply)  \\\n",
       "0                                                NaN               \n",
       "1                                                NaN               \n",
       "2                                                NaN               \n",
       "3                                                NaN               \n",
       "4                                                NaN               \n",
       "\n",
       "  What is your favorite game?  \\\n",
       "0                         NaN   \n",
       "1                         NaN   \n",
       "2                         NaN   \n",
       "3                         NaN   \n",
       "4                         NaN   \n",
       "\n",
       "  How do you discover new games? (Check all that apply)  \\\n",
       "0                                                NaN      \n",
       "1                                                NaN      \n",
       "2                                                NaN      \n",
       "3                                                NaN      \n",
       "4                                                NaN      \n",
       "\n",
       "  Do you prefer single-player or multiplayer games?  \\\n",
       "0                                               NaN   \n",
       "1                                               NaN   \n",
       "2                                               NaN   \n",
       "3                                               NaN   \n",
       "4                                               NaN   \n",
       "\n",
       "  How much do you spend on gaming monthly (including in-game purchases, new games, etc.)?  \\\n",
       "0                                                NaN                                        \n",
       "1                                                NaN                                        \n",
       "2                                                NaN                                        \n",
       "3                                                NaN                                        \n",
       "4                                                NaN                                        \n",
       "\n",
       "  Why do you play video games? (Check all that apply)  \n",
       "0                                                NaN   \n",
       "1                                                NaN   \n",
       "2                                                NaN   \n",
       "3                                                NaN   \n",
       "4                                                NaN   \n",
       "\n",
       "[5 rows x 22 columns]"
      ]
     },
     "execution_count": 149,
     "metadata": {},
     "output_type": "execute_result"
    }
   ],
   "source": [
    "df.head()"
   ]
  },
  {
   "cell_type": "code",
   "execution_count": 150,
   "metadata": {},
   "outputs": [
    {
     "name": "stdout",
     "output_type": "stream",
     "text": [
      "<class 'pandas.core.frame.DataFrame'>\n",
      "RangeIndex: 500 entries, 0 to 499\n",
      "Data columns (total 22 columns):\n",
      " #   Column                                                                                      Non-Null Count  Dtype         \n",
      "---  ------                                                                                      --------------  -----         \n",
      " 0   Timestamp                                                                                   500 non-null    datetime64[ns]\n",
      " 1   Age                                                                                         500 non-null    int64         \n",
      " 2   Gender                                                                                      500 non-null    object        \n",
      " 3   Location                                                                                    500 non-null    object        \n",
      " 4     How often do you play video games?                                                        500 non-null    object        \n",
      " 5     How many hours do you typically spend gaming in a week?                                   500 non-null    object        \n",
      " 6     Which device do you play games on the most?(Check all that apply)                         500 non-null    object        \n",
      " 7   What genres of video games do you play? (Check all that apply)                              500 non-null    object        \n",
      " 8     What is your favorite game?                                                               500 non-null    object        \n",
      " 9   How do you discover new games? (Check all that apply)                                       500 non-null    object        \n",
      " 10    Do you prefer single-player or multiplayer games?                                         500 non-null    object        \n",
      " 11   How much do you spend on gaming monthly (including in-game purchases, new games, etc.)?    500 non-null    object        \n",
      " 12  Why do you play video games? (Check all that apply)                                         500 non-null    object        \n",
      " 13  How often do you play video games?                                                          300 non-null    object        \n",
      " 14  How many hours do you typically spend gaming in a week?                                     300 non-null    object        \n",
      " 15  Which device do you play games on the most?(Check all that apply)                           300 non-null    object        \n",
      " 16  What genres of video games do you play? (Check all that apply)                              300 non-null    object        \n",
      " 17  What is your favorite game?                                                                 300 non-null    object        \n",
      " 18  How do you discover new games? (Check all that apply)                                       300 non-null    object        \n",
      " 19  Do you prefer single-player or multiplayer games?                                           300 non-null    object        \n",
      " 20  How much do you spend on gaming monthly (including in-game purchases, new games, etc.)?     300 non-null    object        \n",
      " 21  Why do you play video games? (Check all that apply)                                         300 non-null    object        \n",
      "dtypes: datetime64[ns](1), int64(1), object(20)\n",
      "memory usage: 86.1+ KB\n"
     ]
    }
   ],
   "source": [
    "df.info()"
   ]
  },
  {
   "cell_type": "code",
   "execution_count": 151,
   "metadata": {},
   "outputs": [
    {
     "data": {
      "text/plain": [
       "Timestamp                                                                                       0\n",
       "Age                                                                                             0\n",
       "Gender                                                                                          0\n",
       "Location                                                                                        0\n",
       "  How often do you play video games?                                                            0\n",
       "  How many hours do you typically spend gaming in a week?                                       0\n",
       "  Which device do you play games on the most?(Check all that apply)                             0\n",
       "What genres of video games do you play? (Check all that apply)                                  0\n",
       "  What is your favorite game?                                                                   0\n",
       "How do you discover new games? (Check all that apply)                                           0\n",
       "  Do you prefer single-player or multiplayer games?                                             0\n",
       " How much do you spend on gaming monthly (including in-game purchases, new games, etc.)?        0\n",
       "Why do you play video games? (Check all that apply)                                             0\n",
       "How often do you play video games?                                                            200\n",
       "How many hours do you typically spend gaming in a week?                                       200\n",
       "Which device do you play games on the most?(Check all that apply)                             200\n",
       "What genres of video games do you play? (Check all that apply)                                200\n",
       "What is your favorite game?                                                                   200\n",
       "How do you discover new games? (Check all that apply)                                         200\n",
       "Do you prefer single-player or multiplayer games?                                             200\n",
       "How much do you spend on gaming monthly (including in-game purchases, new games, etc.)?       200\n",
       "Why do you play video games? (Check all that apply)                                           200\n",
       "dtype: int64"
      ]
     },
     "execution_count": 151,
     "metadata": {},
     "output_type": "execute_result"
    }
   ],
   "source": [
    "df.isnull().sum()"
   ]
  },
  {
   "cell_type": "code",
   "execution_count": 152,
   "metadata": {},
   "outputs": [
    {
     "data": {
      "text/plain": [
       "np.int64(0)"
      ]
     },
     "execution_count": 152,
     "metadata": {},
     "output_type": "execute_result"
    }
   ],
   "source": [
    "df.duplicated().sum()"
   ]
  },
  {
   "cell_type": "code",
   "execution_count": 153,
   "metadata": {},
   "outputs": [
    {
     "name": "stdout",
     "output_type": "stream",
     "text": [
      "----------------------------------------------------------------------------------------------------\n",
      "Timestamp\n",
      "<DatetimeArray>\n",
      "['2024-10-24 13:09:27.109000', '2024-10-24 13:09:34.343000',\n",
      " '2024-10-24 13:23:13.403000', '2024-10-24 13:30:42.445000',\n",
      " '2024-10-24 13:32:26.815000', '2024-10-24 13:45:27.774000',\n",
      " '2024-10-24 13:46:23.083000', '2024-10-24 14:12:24.350000',\n",
      " '2024-10-24 16:13:47.688000', '2024-10-24 16:31:47.342000',\n",
      " ...\n",
      "        '2024-10-25 16:50:00',        '2024-10-25 16:51:00',\n",
      "        '2024-10-25 16:52:00',        '2024-10-25 16:53:00',\n",
      "        '2024-10-25 16:54:00',        '2024-10-25 16:55:00',\n",
      "        '2024-10-25 16:56:00',        '2024-10-25 16:57:00',\n",
      "        '2024-10-25 16:58:00',        '2024-10-25 16:59:00']\n",
      "Length: 500, dtype: datetime64[ns]\n",
      "----------------------------------------------------------------------------------------------------\n",
      "Age\n",
      "[18 19 20 16 17 25 26 33 22 24 34 27 29 21 32 15 31 30 28 23 35]\n",
      "----------------------------------------------------------------------------------------------------\n",
      "Gender\n",
      "['Male' 'Female' 'male']\n",
      "----------------------------------------------------------------------------------------------------\n",
      "Location\n",
      "['Bangalore' 'Hell road , Bangalore ' 'Banglore' 'Banglore, Karnataka '\n",
      " 'Bangalore ' 'Jain University ' 'bangalore' 'Harohalli'\n",
      " 'Nayapalli n4/8 near balaram medecine store bhubaneswar,odisha,India'\n",
      " 'Odisha,Bhubaneswar ' 'Karnataka ' 'Andhra Pradesh' 'banglore'\n",
      " 'Bhubaneswar, odisha ' 'Banglore ' 'karnataka' 'Karnataka'\n",
      " 'Hell road , Bangalore' 'Banglore, Karnataka' 'Jain University'\n",
      " 'bhubaneswar,odisha,India' 'Odisha,Bhubaneswar' 'Bhubaneswar, odisha'\n",
      " 'Chennai' 'Kolkata' 'Pune' 'Hyderabad' 'Mumbai' 'Ahmedabad' 'Delhi'\n",
      " 'Florida' 'London' 'Ohio' 'Texas' 'New York' 'Toronto' 'California']\n",
      "----------------------------------------------------------------------------------------------------\n",
      "  How often do you play video games?  \n",
      "['Daily' 'Rarely/Never' 'A few times in a week' 'A few times in a month'\n",
      " 'A few times a week']\n",
      "----------------------------------------------------------------------------------------------------\n",
      "  How many hours do you typically spend gaming in a week?  \n",
      "['10-20 hours' 0 'More than 20 hours' 'Less than 5 hours' '30mins'\n",
      " '5-10 hours']\n",
      "----------------------------------------------------------------------------------------------------\n",
      "  Which device do you play games on the most?(Check all that apply)  \n",
      "['Mobile' 'Console (PlayStation, Xbox, etc.)' 'PC, Mobile'\n",
      " 'Console (PlayStation, Xbox, etc.), Mobile'\n",
      " 'Console (PlayStation, Xbox, etc.), Handheld devices (Nintendo Switch, etc.)'\n",
      " 'PC' 'PC, Console (PlayStation, Xbox, etc.), Mobile' 'Console, Mobile'\n",
      " 'Tablet' 'PC, Console']\n",
      "----------------------------------------------------------------------------------------------------\n",
      "What genres of video games do you play? (Check all that apply)  \n",
      "['Sports' 'Puzzle/Strategy, Simulation (e.g., The Sims)'\n",
      " 'First-Person Shooter (FPS)' 'Puzzle/Strategy'\n",
      " 'Action/Adventure, First-Person Shooter (FPS), Role-Playing Games (RPG)'\n",
      " 'Action/Adventure, First-Person Shooter (FPS), Role-Playing Games (RPG), MMO (Massively Multiplayer Online)'\n",
      " 'First-Person Shooter (FPS), Role-Playing Games (RPG), Simulation (e.g., The Sims)'\n",
      " 'Action/Adventure, MMO (Massively Multiplayer Online)'\n",
      " 'Action/Adventure, Sports, MMO (Massively Multiplayer Online)'\n",
      " 'Action/Adventure, Role-Playing Games (RPG), MMO (Massively Multiplayer Online)'\n",
      " 'Action/Adventure, Role-Playing Games (RPG)'\n",
      " 'Action/Adventure, First-Person Shooter (FPS), Puzzle/Strategy'\n",
      " 'MMO (Massively Multiplayer Online)'\n",
      " 'Action/Adventure, First-Person Shooter (FPS), Puzzle/Strategy, MMO (Massively Multiplayer Online)'\n",
      " 'Action/Adventure, First-Person Shooter (FPS)' 'Action/Adventure, Sports'\n",
      " 'Action/Adventure, Puzzle/Strategy, Simulation (e.g., The Sims)'\n",
      " 'First-Person Shooter (FPS), Sports'\n",
      " 'Action/Adventure, First-Person Shooter (FPS), Role-Playing Games (RPG), Puzzle/Strategy, Simulation (e.g., The Sims), MMO (Massively Multiplayer Online)']\n",
      "----------------------------------------------------------------------------------------------------\n",
      "  What is your favorite game?  \n",
      "['FC MOBILE' 'Wukong ' 'Call of duty' 'Subway' 'Solo leveling arise '\n",
      " 'Efootball' 'Call of duty ' 'call of duty' 'BGMI ' 'Moba Legends'\n",
      " 'Free fire,wuthering waves' 'Wuther waves' 'Rhythm Rush lite'\n",
      " 'Solo Levelling' 'CALL OF DUTY' 'Wuthering waves '\n",
      " 'Red dead redemption 2' 'Chess and clash of clans ' 'God of war ragnarok'\n",
      " 'fornite' 'bgmi,coc,chess' 'efootball' 'Many']\n",
      "----------------------------------------------------------------------------------------------------\n",
      "How do you discover new games? (Check all that apply)  \n",
      "['Social Media, Gaming Forums' 'Social Media' 'Gaming Forums'\n",
      " 'Friends/Family Recommendations'\n",
      " 'Social Media, Gaming Forums, Game Reviews/Blogs, YouTube/Streaming platforms (Twitch, etc.)'\n",
      " 'Gaming Forums, YouTube/Streaming platforms (Twitch, etc.)'\n",
      " 'Social Media, Friends/Family Recommendations'\n",
      " 'Gaming Forums, Game Reviews/Blogs'\n",
      " 'Social Media, Gaming Forums, Friends/Family Recommendations, Game Reviews/Blogs, YouTube/Streaming platforms (Twitch, etc.)'\n",
      " 'I search myself from playstore '\n",
      " 'Friends/Family Recommendations, YouTube/Streaming platforms (Twitch, etc.)'\n",
      " 'YouTube/Streaming platforms (Twitch, etc.)'\n",
      " 'Social Media, Gaming Forums, Game Reviews/Blogs, YouTube/Streaming platforms (Twitch, etc.), my own ways!!!']\n",
      "----------------------------------------------------------------------------------------------------\n",
      "  Do you prefer single-player or multiplayer games?  \n",
      "['Both' 'Single-player' 'Multiplayer']\n",
      "----------------------------------------------------------------------------------------------------\n",
      " How much do you spend on gaming monthly (including in-game purchases, new games, etc.)?  \n",
      "['Less than ₹100' '₹100-500' '₹1000 and above' 'More than ₹1000'\n",
      " '₹500-1000']\n",
      "----------------------------------------------------------------------------------------------------\n",
      "Why do you play video games? (Check all that apply)  \n",
      "['For fun/entertainment, To relieve stress'\n",
      " 'To improve skills/competition' 'For fun/entertainment'\n",
      " 'For fun/entertainment, To relieve stress, To socialize with friends, To improve skills/competition'\n",
      " 'To relieve stress'\n",
      " 'For fun/entertainment, To socialize with friends, To improve skills/competition'\n",
      " 'For fun/entertainment, To improve skills/competition'\n",
      " 'If no other better work '\n",
      " 'For fun/entertainment, To relieve stress, To improve skills/competition'\n",
      " \"For fun/entertainment, To improve skills/competition, learning how it's designed, etc\"\n",
      " 'If no other better work'\n",
      " 'To relieve stress, For fun/entertainment, To improve skills/competition'\n",
      " 'To socialize, To improve skills/competition, For fun/entertainment'\n",
      " 'To socialize, To relieve stress'\n",
      " 'To improve skills/competition, For fun/entertainment'\n",
      " 'To improve skills/competition, To socialize'\n",
      " 'To relieve stress, To socialize' 'To socialize, For fun/entertainment'\n",
      " 'To relieve stress, For fun/entertainment, To socialize'\n",
      " 'To improve skills/competition, For fun/entertainment, To relieve stress'\n",
      " 'To socialize, To relieve stress, For fun/entertainment'\n",
      " 'To improve skills/competition, For fun/entertainment, To socialize'\n",
      " 'For fun/entertainment, To socialize'\n",
      " 'To relieve stress, To socialize, To improve skills/competition'\n",
      " 'To relieve stress, To improve skills/competition'\n",
      " 'To improve skills/competition, To relieve stress, To socialize'\n",
      " 'To socialize' 'To improve skills/competition, To relieve stress'\n",
      " 'For fun/entertainment, To socialize, To relieve stress'\n",
      " 'To relieve stress, To improve skills/competition, To socialize'\n",
      " 'To relieve stress, For fun/entertainment'\n",
      " 'For fun/entertainment, To socialize, To improve skills/competition'\n",
      " 'To socialize, To improve skills/competition']\n",
      "----------------------------------------------------------------------------------------------------\n",
      "How often do you play video games?\n",
      "[nan 'Daily' 'Rarely/Never' 'Weekly']\n",
      "----------------------------------------------------------------------------------------------------\n",
      "How many hours do you typically spend gaming in a week?\n",
      "[nan '5-10 hours' 'Less than 5 hours' '10-20 hours' 'More than 20 hours']\n",
      "----------------------------------------------------------------------------------------------------\n",
      "Which device do you play games on the most?(Check all that apply)\n",
      "[nan 'PC, Console' 'PC, Mobile' 'All' 'Console (PlayStation, Xbox, etc.)'\n",
      " 'Mobile, Console' 'Mobile' 'PC']\n",
      "----------------------------------------------------------------------------------------------------\n",
      "What genres of video games do you play? (Check all that apply)\n",
      "[nan 'Simulation' 'First-Person Shooter (FPS)' 'Puzzle/Strategy'\n",
      " 'Action/Adventure' 'Casual' 'Horror' 'Sports' 'Role-playing']\n",
      "----------------------------------------------------------------------------------------------------\n",
      "What is your favorite game?\n",
      "[nan 'Genshin Impact' 'League of Legends' 'FIFA 2024' 'Overwatch'\n",
      " 'Among Us' 'Valorant' 'Minecraft' 'Apex Legends' 'Fortnite'\n",
      " 'Call of Duty']\n",
      "----------------------------------------------------------------------------------------------------\n",
      "How do you discover new games? (Check all that apply)\n",
      "[nan 'Friends/Family Recommendations' 'Gaming Forums' 'Social Media'\n",
      " 'YouTube' 'Twitch']\n",
      "----------------------------------------------------------------------------------------------------\n",
      "Do you prefer single-player or multiplayer games?\n",
      "[nan 'Single-player' 'Multiplayer' 'Both']\n",
      "----------------------------------------------------------------------------------------------------\n",
      "How much do you spend on gaming monthly (including in-game purchases, new games, etc.)?\n",
      "[nan '₹500-1000' 'Less than ₹100' '₹100-500' 'More than ₹1000']\n",
      "----------------------------------------------------------------------------------------------------\n",
      "Why do you play video games? (Check all that apply)\n",
      "[nan 'For fun/entertainment' 'To socialize' 'For the story/experience'\n",
      " 'To relieve stress' 'To improve skills/competition']\n"
     ]
    }
   ],
   "source": [
    "for i in df.columns:\n",
    "    print('--'*50)\n",
    "    print(i)\n",
    "    print(df[i].unique())"
   ]
  },
  {
   "cell_type": "markdown",
   "metadata": {},
   "source": [
    "<div \n",
    "style=\"\n",
    "font-family: 'Roboto', sans-serif;\n",
    "color:white;\n",
    "background-color:#3f37c9;\n",
    "padding:1%;\n",
    "border-radius:10px;\n",
    "font-size:2em;\n",
    "text-align:center\n",
    "\">\n",
    "Cleaning Data for Analysis\n",
    "</div>"
   ]
  },
  {
   "cell_type": "markdown",
   "metadata": {},
   "source": [
    "## BASIC CLEANING "
   ]
  },
  {
   "cell_type": "code",
   "execution_count": 154,
   "metadata": {},
   "outputs": [
    {
     "data": {
      "text/plain": [
       "Index(['Timestamp', 'Age', 'Gender', 'Location',\n",
       "       '  How often do you play video games?  ',\n",
       "       '  How many hours do you typically spend gaming in a week?  ',\n",
       "       '  Which device do you play games on the most?(Check all that apply)  ',\n",
       "       'What genres of video games do you play? (Check all that apply)  ',\n",
       "       '  What is your favorite game?  ',\n",
       "       'How do you discover new games? (Check all that apply)  ',\n",
       "       '  Do you prefer single-player or multiplayer games?  ',\n",
       "       ' How much do you spend on gaming monthly (including in-game purchases, new games, etc.)?  ',\n",
       "       'Why do you play video games? (Check all that apply)  ',\n",
       "       'How often do you play video games?',\n",
       "       'How many hours do you typically spend gaming in a week?',\n",
       "       'Which device do you play games on the most?(Check all that apply)',\n",
       "       'What genres of video games do you play? (Check all that apply)',\n",
       "       'What is your favorite game?',\n",
       "       'How do you discover new games? (Check all that apply)',\n",
       "       'Do you prefer single-player or multiplayer games?',\n",
       "       'How much do you spend on gaming monthly (including in-game purchases, new games, etc.)?',\n",
       "       'Why do you play video games? (Check all that apply)'],\n",
       "      dtype='object')"
      ]
     },
     "execution_count": 154,
     "metadata": {},
     "output_type": "execute_result"
    }
   ],
   "source": [
    "df.columns"
   ]
  },
  {
   "cell_type": "code",
   "execution_count": 155,
   "metadata": {},
   "outputs": [],
   "source": [
    "# deleting repeating coloumns\n",
    "dfmod = df.drop(['How often do you play video games?',\n",
    "       'How many hours do you typically spend gaming in a week?',\n",
    "       'Which device do you play games on the most?(Check all that apply)',\n",
    "       'What genres of video games do you play? (Check all that apply)',\n",
    "       'What is your favorite game?',\n",
    "       'How do you discover new games? (Check all that apply)',\n",
    "       'Do you prefer single-player or multiplayer games?',\n",
    "       'How much do you spend on gaming monthly (including in-game purchases, new games, etc.)?',\n",
    "       'Why do you play video games? (Check all that apply)'], axis=1, inplace=False)"
   ]
  },
  {
   "cell_type": "code",
   "execution_count": 156,
   "metadata": {},
   "outputs": [
    {
     "data": {
      "text/plain": [
       "Index(['Timestamp', 'Age', 'Gender', 'Location',\n",
       "       '  How often do you play video games?  ',\n",
       "       '  How many hours do you typically spend gaming in a week?  ',\n",
       "       '  Which device do you play games on the most?(Check all that apply)  ',\n",
       "       'What genres of video games do you play? (Check all that apply)  ',\n",
       "       '  What is your favorite game?  ',\n",
       "       'How do you discover new games? (Check all that apply)  ',\n",
       "       '  Do you prefer single-player or multiplayer games?  ',\n",
       "       ' How much do you spend on gaming monthly (including in-game purchases, new games, etc.)?  ',\n",
       "       'Why do you play video games? (Check all that apply)  '],\n",
       "      dtype='object')"
      ]
     },
     "execution_count": 156,
     "metadata": {},
     "output_type": "execute_result"
    }
   ],
   "source": [
    "dfmod.columns"
   ]
  },
  {
   "cell_type": "code",
   "execution_count": 157,
   "metadata": {},
   "outputs": [
    {
     "data": {
      "text/plain": [
       "Index(['Timestamp', 'Age', 'Gender', 'Location',\n",
       "       'How often do you play video games?',\n",
       "       'How many hours do you typically spend gaming in a week?',\n",
       "       'Which device do you play games on the most?(Check all that apply)',\n",
       "       'What genres of video games do you play? (Check all that apply)',\n",
       "       'What is your favorite game?',\n",
       "       'How do you discover new games? (Check all that apply)',\n",
       "       'Do you prefer single-player or multiplayer games?',\n",
       "       'How much do you spend on gaming monthly (including in-game purchases, new games, etc.)?',\n",
       "       'Why do you play video games? (Check all that apply)'],\n",
       "      dtype='object')"
      ]
     },
     "execution_count": 157,
     "metadata": {},
     "output_type": "execute_result"
    }
   ],
   "source": [
    "# applying strip to all columns to remove white spaces\n",
    "dfmod.columns = dfmod.columns.str.strip()\n",
    "dfmod.columns"
   ]
  },
  {
   "cell_type": "code",
   "execution_count": 158,
   "metadata": {},
   "outputs": [
    {
     "data": {
      "text/plain": [
       "Index(['Timestamp', 'Age', 'Gender', 'Location',\n",
       "       'How often do you play video games?',\n",
       "       'How many hours do you typically spend gaming in a week?',\n",
       "       'Which device do you play games on the most?',\n",
       "       'What genres of video games do you play?',\n",
       "       'What is your favorite game?', 'How do you discover new games?',\n",
       "       'Do you prefer single-player or multiplayer games?',\n",
       "       'How much do you spend on gaming monthly?',\n",
       "       'Why do you play video games?'],\n",
       "      dtype='object')"
      ]
     },
     "execution_count": 158,
     "metadata": {},
     "output_type": "execute_result"
    }
   ],
   "source": [
    "dfmod.rename(columns={'Which device do you play games on the most?(Check all that apply)': 'Which device do you play games on the most?',\n",
    "                        'What genres of video games do you play? (Check all that apply)': 'What genres of video games do you play?',\n",
    "                        'How do you discover new games? (Check all that apply)': 'How do you discover new games?',\n",
    "                        'Why do you play video games? (Check all that apply)': 'Why do you play video games?',\n",
    "                        'How much do you spend on gaming monthly (including in-game purchases, new games, etc.)?':'How much do you spend on gaming monthly?'}, inplace=True)\n",
    "\n",
    "dfmod.columns"
   ]
  },
  {
   "cell_type": "markdown",
   "metadata": {},
   "source": [
    "## 1. Timestamp & Gender column"
   ]
  },
  {
   "cell_type": "code",
   "execution_count": 159,
   "metadata": {},
   "outputs": [
    {
     "data": {
      "text/plain": [
       "Index(['Age', 'Gender', 'Location', 'How often do you play video games?',\n",
       "       'How many hours do you typically spend gaming in a week?',\n",
       "       'Which device do you play games on the most?',\n",
       "       'What genres of video games do you play?',\n",
       "       'What is your favorite game?', 'How do you discover new games?',\n",
       "       'Do you prefer single-player or multiplayer games?',\n",
       "       'How much do you spend on gaming monthly?',\n",
       "       'Why do you play video games?'],\n",
       "      dtype='object')"
      ]
     },
     "execution_count": 159,
     "metadata": {},
     "output_type": "execute_result"
    }
   ],
   "source": [
    "# dropping timestamp column\n",
    "dfmod.drop(axis=1, columns=['Timestamp'], inplace=True)\n",
    "dfmod.columns"
   ]
  },
  {
   "cell_type": "code",
   "execution_count": 160,
   "metadata": {},
   "outputs": [
    {
     "data": {
      "text/plain": [
       "array(['Male', 'Female'], dtype=object)"
      ]
     },
     "execution_count": 160,
     "metadata": {},
     "output_type": "execute_result"
    }
   ],
   "source": [
    "# converting all values to title case for consistency\n",
    "dfmod['Gender'] = dfmod['Gender'].str.title()\n",
    "dfmod[\"Gender\"].unique()"
   ]
  },
  {
   "cell_type": "markdown",
   "metadata": {},
   "source": [
    "## 2. Location Column"
   ]
  },
  {
   "cell_type": "code",
   "execution_count": 161,
   "metadata": {},
   "outputs": [
    {
     "data": {
      "text/plain": [
       "array(['Bangalore', 'Hell road , Bangalore ', 'Banglore',\n",
       "       'Banglore, Karnataka ', 'Bangalore ', 'Jain University ',\n",
       "       'bangalore', 'Harohalli',\n",
       "       'Nayapalli n4/8 near balaram medecine store bhubaneswar,odisha,India',\n",
       "       'Odisha,Bhubaneswar ', 'Karnataka ', 'Andhra Pradesh', 'banglore',\n",
       "       'Bhubaneswar, odisha ', 'Banglore ', 'karnataka', 'Karnataka',\n",
       "       'Hell road , Bangalore', 'Banglore, Karnataka', 'Jain University',\n",
       "       'bhubaneswar,odisha,India', 'Odisha,Bhubaneswar',\n",
       "       'Bhubaneswar, odisha', 'Chennai', 'Kolkata', 'Pune', 'Hyderabad',\n",
       "       'Mumbai', 'Ahmedabad', 'Delhi', 'Florida', 'London', 'Ohio',\n",
       "       'Texas', 'New York', 'Toronto', 'California'], dtype=object)"
      ]
     },
     "execution_count": 161,
     "metadata": {},
     "output_type": "execute_result"
    }
   ],
   "source": [
    "# we can see the potential errors in this coloumn\n",
    "df[\"Location\"].unique() "
   ]
  },
  {
   "cell_type": "code",
   "execution_count": 162,
   "metadata": {},
   "outputs": [
    {
     "data": {
      "text/plain": [
       "array(['Bangalore', 'Hell road , Bangalore', 'Banglore',\n",
       "       'Banglore, Karnataka', 'Jain University', 'bangalore', 'Harohalli',\n",
       "       'Nayapalli n4/8 near balaram medecine store bhubaneswar,odisha,India',\n",
       "       'Odisha,Bhubaneswar', 'Karnataka', 'Andhra Pradesh', 'banglore',\n",
       "       'Bhubaneswar, odisha', 'karnataka', 'bhubaneswar,odisha,India',\n",
       "       'Chennai', 'Kolkata', 'Pune', 'Hyderabad', 'Mumbai', 'Ahmedabad',\n",
       "       'Delhi', 'Florida', 'London', 'Ohio', 'Texas', 'New York',\n",
       "       'Toronto', 'California'], dtype=object)"
      ]
     },
     "execution_count": 162,
     "metadata": {},
     "output_type": "execute_result"
    }
   ],
   "source": [
    "dfmod[\"Location\"] = dfmod[\"Location\"].str.strip()\n",
    "dfmod[\"Location\"].unique()"
   ]
  },
  {
   "cell_type": "code",
   "execution_count": 163,
   "metadata": {},
   "outputs": [],
   "source": [
    "dfmod[\"Location\"] = dfmod[\"Location\"].replace(\n",
    "    to_replace=[\n",
    "        'Hell road , Bangalore ', 'Banglore', 'Banglore, Karnataka ',\n",
    "        'Bangalore ', 'bangalore', 'banglore', 'Banglore ',\n",
    "        'Hell road , Bangalore', 'Banglore, Karnataka', 'Karnataka ',\n",
    "        'banglore', 'Banglore ', 'karnataka', 'Karnataka',\n",
    "        'Hell road , Bangalore', 'Banglore, Karnataka'\n",
    "    ],\n",
    "    value='Bangalore'\n",
    ")\n"
   ]
  },
  {
   "cell_type": "code",
   "execution_count": 164,
   "metadata": {},
   "outputs": [],
   "source": [
    "dfmod[\"Location\"] = dfmod[\"Location\"].replace(\n",
    "    to_replace=[\n",
    "        'Nayapalli n4/8 near balaram medecine store bhubaneswar,odisha,India',\n",
    "        'Odisha,Bhubaneswar ', 'Bhubaneswar, odisha ',\n",
    "        'bhubaneswar,odisha,India', 'Odisha,Bhubaneswar', 'Bhubaneswar, odisha'\n",
    "    ],\n",
    "    value='Odisha'\n",
    ")\n"
   ]
  },
  {
   "cell_type": "code",
   "execution_count": 165,
   "metadata": {},
   "outputs": [
    {
     "data": {
      "text/plain": [
       "array(['Bangalore', 'Jain University', 'Harohalli', 'Odisha',\n",
       "       'Andhra Pradesh', 'Chennai', 'Kolkata', 'Pune', 'Hyderabad',\n",
       "       'Mumbai', 'Ahmedabad', 'Delhi', 'Florida', 'London', 'Ohio',\n",
       "       'Texas', 'New York', 'Toronto', 'California'], dtype=object)"
      ]
     },
     "execution_count": 165,
     "metadata": {},
     "output_type": "execute_result"
    }
   ],
   "source": [
    "dfmod[\"Location\"].unique() # we have successfully cleaned this coloumn"
   ]
  },
  {
   "cell_type": "markdown",
   "metadata": {},
   "source": [
    "## 3. \"How often do you play video games?\""
   ]
  },
  {
   "cell_type": "code",
   "execution_count": 166,
   "metadata": {},
   "outputs": [
    {
     "data": {
      "text/plain": [
       "array(['Daily', 'Rarely/Never', 'A few times in a week',\n",
       "       'A few times in a month', 'A few times a week'], dtype=object)"
      ]
     },
     "execution_count": 166,
     "metadata": {},
     "output_type": "execute_result"
    }
   ],
   "source": [
    "dfmod[\"How often do you play video games?\"].unique()\n",
    "\n",
    "# we can see the two values are ment to be same 'A few times in a week' and 'A few times a week'"
   ]
  },
  {
   "cell_type": "code",
   "execution_count": 167,
   "metadata": {},
   "outputs": [
    {
     "data": {
      "text/plain": [
       "array(['Daily', 'Rarely/Never', 'A few times in a week',\n",
       "       'A few times in a month'], dtype=object)"
      ]
     },
     "execution_count": 167,
     "metadata": {},
     "output_type": "execute_result"
    }
   ],
   "source": [
    "dfmod[\"How often do you play video games?\"] = dfmod[\"How often do you play video games?\"].replace(\n",
    "    to_replace='A few times a week', \n",
    "    value='A few times in a week'\n",
    ")\n",
    "dfmod[\"How often do you play video games?\"].unique()"
   ]
  },
  {
   "cell_type": "markdown",
   "metadata": {},
   "source": [
    "## 4. \"How many hours do you typically spend gaming in a week?\""
   ]
  },
  {
   "cell_type": "code",
   "execution_count": 168,
   "metadata": {},
   "outputs": [
    {
     "data": {
      "text/plain": [
       "array(['10-20 hours', 0, 'More than 20 hours', 'Less than 5 hours',\n",
       "       '30mins', '5-10 hours'], dtype=object)"
      ]
     },
     "execution_count": 168,
     "metadata": {},
     "output_type": "execute_result"
    }
   ],
   "source": [
    "dfmod[\"How many hours do you typically spend gaming in a week?\"].unique()"
   ]
  },
  {
   "cell_type": "code",
   "execution_count": 169,
   "metadata": {},
   "outputs": [
    {
     "data": {
      "text/plain": [
       "array(['10-20 hours', '0-10 hours', 'More than 20 hours'], dtype=object)"
      ]
     },
     "execution_count": 169,
     "metadata": {},
     "output_type": "execute_result"
    }
   ],
   "source": [
    "dfmod[\"How many hours do you typically spend gaming in a week?\"] = dfmod[\"How many hours do you typically spend gaming in a week?\"].replace(\n",
    "    to_replace=[0, 'Less than 5 hours', '30mins', '5-10 hours'],\n",
    "    value='0-10 hours'\n",
    ")\n",
    "\n",
    "dfmod[\"How many hours do you typically spend gaming in a week?\"].unique()"
   ]
  },
  {
   "cell_type": "markdown",
   "metadata": {},
   "source": [
    "## 5. \"How much do you spend on gaming monthly?\""
   ]
  },
  {
   "cell_type": "code",
   "execution_count": 170,
   "metadata": {},
   "outputs": [
    {
     "data": {
      "text/plain": [
       "array(['Less than ₹100', '₹100-500', '₹1000 and above', 'More than ₹1000',\n",
       "       '₹500-1000'], dtype=object)"
      ]
     },
     "execution_count": 170,
     "metadata": {},
     "output_type": "execute_result"
    }
   ],
   "source": [
    "dfmod[\"How much do you spend on gaming monthly?\"].unique()"
   ]
  },
  {
   "cell_type": "code",
   "execution_count": 171,
   "metadata": {},
   "outputs": [
    {
     "data": {
      "text/plain": [
       "array(['Less than ₹100', '₹100-500', 'More than ₹1000', '₹500-1000'],\n",
       "      dtype=object)"
      ]
     },
     "execution_count": 171,
     "metadata": {},
     "output_type": "execute_result"
    }
   ],
   "source": [
    "dfmod[\"How much do you spend on gaming monthly?\"] = dfmod[\"How much do you spend on gaming monthly?\"].replace(\n",
    "    to_replace='₹1000 and above',\n",
    "    value='More than ₹1000'\n",
    ")\n",
    "\n",
    "dfmod[\"How much do you spend on gaming monthly?\"].unique()"
   ]
  },
  {
   "cell_type": "markdown",
   "metadata": {},
   "source": [
    "## 6. \"Which device do you play games on the most?\""
   ]
  },
  {
   "cell_type": "code",
   "execution_count": 172,
   "metadata": {},
   "outputs": [
    {
     "data": {
      "text/plain": [
       "['Mobile',\n",
       " 'Console (PlayStation, Xbox, etc.)',\n",
       " 'PC, Mobile',\n",
       " 'Console (PlayStation, Xbox, etc.), Mobile',\n",
       " 'Console (PlayStation, Xbox, etc.), Handheld devices (Nintendo Switch, etc.)',\n",
       " 'PC',\n",
       " 'PC, Console (PlayStation, Xbox, etc.), Mobile',\n",
       " 'Console, Mobile',\n",
       " 'Tablet',\n",
       " 'PC, Console']"
      ]
     },
     "execution_count": 172,
     "metadata": {},
     "output_type": "execute_result"
    }
   ],
   "source": [
    "dfmod[\"Which device do you play games on the most?\"].unique().tolist()"
   ]
  },
  {
   "cell_type": "code",
   "execution_count": 173,
   "metadata": {},
   "outputs": [
    {
     "name": "stderr",
     "output_type": "stream",
     "text": [
      "<>:1: SyntaxWarning: invalid escape sequence '\\('\n",
      "<>:2: SyntaxWarning: invalid escape sequence '\\('\n",
      "<>:1: SyntaxWarning: invalid escape sequence '\\('\n",
      "<>:2: SyntaxWarning: invalid escape sequence '\\('\n",
      "C:\\Users\\ASAD\\AppData\\Local\\Temp\\ipykernel_8528\\3269707851.py:1: SyntaxWarning: invalid escape sequence '\\('\n",
      "  dfmod[\"Which device do you play games on the most?\"] = dfmod[\"Which device do you play games on the most?\"].str.replace(\"Console \\(PlayStation, Xbox, etc\\\\.\\\\)\", \"Console\", regex=True)\n",
      "C:\\Users\\ASAD\\AppData\\Local\\Temp\\ipykernel_8528\\3269707851.py:2: SyntaxWarning: invalid escape sequence '\\('\n",
      "  dfmod[\"Which device do you play games on the most?\"] = dfmod[\"Which device do you play games on the most?\"].str.replace(\"Handheld devices \\(Nintendo Switch, etc\\\\.\\\\)\", \"Handheld devices\", regex=True)\n"
     ]
    },
    {
     "data": {
      "text/plain": [
       "array(['Mobile', 'Console', 'PC, Mobile', 'Console, Mobile',\n",
       "       'Console, Handheld devices', 'PC', 'PC, Console, Mobile', 'Tablet',\n",
       "       'PC, Console'], dtype=object)"
      ]
     },
     "execution_count": 173,
     "metadata": {},
     "output_type": "execute_result"
    }
   ],
   "source": [
    "dfmod[\"Which device do you play games on the most?\"] = dfmod[\"Which device do you play games on the most?\"].str.replace(\"Console \\(PlayStation, Xbox, etc\\\\.\\\\)\", \"Console\", regex=True)\n",
    "dfmod[\"Which device do you play games on the most?\"] = dfmod[\"Which device do you play games on the most?\"].str.replace(\"Handheld devices \\(Nintendo Switch, etc\\\\.\\\\)\", \"Handheld devices\", regex=True)\n",
    "\n",
    "\n",
    "dfmod[\"Which device do you play games on the most?\"].unique()"
   ]
  },
  {
   "cell_type": "code",
   "execution_count": 174,
   "metadata": {},
   "outputs": [],
   "source": [
    "dfmod_normalized = dfmod.copy()\n",
    "dfmod_normalized[['Primary Device', 'Secondary Device', 'Device3']] = dfmod[\"Which device do you play games on the most?\"].str.split(',', expand=True)"
   ]
  },
  {
   "cell_type": "code",
   "execution_count": 175,
   "metadata": {},
   "outputs": [],
   "source": [
    "dfmod_normalized.drop(columns=[\"Which device do you play games on the most?\", 'Device3'], axis=1 ,inplace=True)"
   ]
  },
  {
   "cell_type": "markdown",
   "metadata": {},
   "source": [
    "## 7. \"What is your favorite game?\""
   ]
  },
  {
   "cell_type": "code",
   "execution_count": 176,
   "metadata": {},
   "outputs": [
    {
     "data": {
      "text/plain": [
       "array(['FC MOBILE', 'Wukong ', 'Call of duty', 'Subway',\n",
       "       'Solo leveling arise ', 'Efootball', 'Call of duty ',\n",
       "       'call of duty', 'BGMI ', 'Moba Legends',\n",
       "       'Free fire,wuthering waves', 'Wuther waves', 'Rhythm Rush lite',\n",
       "       'Solo Levelling', 'CALL OF DUTY', 'Wuthering waves ',\n",
       "       'Red dead redemption 2', 'Chess and clash of clans ',\n",
       "       'God of war ragnarok', 'fornite', 'bgmi,coc,chess', 'efootball',\n",
       "       'Many'], dtype=object)"
      ]
     },
     "execution_count": 176,
     "metadata": {},
     "output_type": "execute_result"
    }
   ],
   "source": [
    "dfmod[\"What is your favorite game?\"].unique()"
   ]
  },
  {
   "cell_type": "code",
   "execution_count": 177,
   "metadata": {},
   "outputs": [
    {
     "data": {
      "text/plain": [
       "array(['FC MOBILE', 'Wukong', 'Call of duty', 'Subway',\n",
       "       'Solo leveling arise', 'Efootball', 'call of duty', 'BGMI',\n",
       "       'Moba Legends', 'Free fire,wuthering waves', 'Wuther waves',\n",
       "       'Rhythm Rush lite', 'Solo Levelling', 'CALL OF DUTY',\n",
       "       'Wuthering waves', 'Red dead redemption 2',\n",
       "       'Chess and clash of clans', 'God of war ragnarok', 'fornite',\n",
       "       'bgmi,coc,chess', 'efootball', 'Many'], dtype=object)"
      ]
     },
     "execution_count": 177,
     "metadata": {},
     "output_type": "execute_result"
    }
   ],
   "source": [
    "dfmod[\"What is your favorite game?\"] = dfmod[\"What is your favorite game?\"].str.strip()\n",
    "dfmod_normalized[\"What is your favorite game?\"] = dfmod[\"What is your favorite game?\"]\n",
    "\n",
    "dfmod[\"What is your favorite game?\"].unique()"
   ]
  },
  {
   "cell_type": "markdown",
   "metadata": {},
   "source": [
    "## 8. What genres of video games do you play?"
   ]
  },
  {
   "cell_type": "code",
   "execution_count": 178,
   "metadata": {},
   "outputs": [
    {
     "data": {
      "text/plain": [
       "['Sports',\n",
       " 'Puzzle/Strategy, Simulation (e.g., The Sims)',\n",
       " 'First-Person Shooter (FPS)',\n",
       " 'Puzzle/Strategy',\n",
       " 'Action/Adventure, First-Person Shooter (FPS), Role-Playing Games (RPG)',\n",
       " 'Action/Adventure, First-Person Shooter (FPS), Role-Playing Games (RPG), MMO (Massively Multiplayer Online)',\n",
       " 'First-Person Shooter (FPS), Role-Playing Games (RPG), Simulation (e.g., The Sims)',\n",
       " 'Action/Adventure, MMO (Massively Multiplayer Online)',\n",
       " 'Action/Adventure, Sports, MMO (Massively Multiplayer Online)',\n",
       " 'Action/Adventure, Role-Playing Games (RPG), MMO (Massively Multiplayer Online)',\n",
       " 'Action/Adventure, Role-Playing Games (RPG)',\n",
       " 'Action/Adventure, First-Person Shooter (FPS), Puzzle/Strategy',\n",
       " 'MMO (Massively Multiplayer Online)',\n",
       " 'Action/Adventure, First-Person Shooter (FPS), Puzzle/Strategy, MMO (Massively Multiplayer Online)',\n",
       " 'Action/Adventure, First-Person Shooter (FPS)',\n",
       " 'Action/Adventure, Sports',\n",
       " 'Action/Adventure, Puzzle/Strategy, Simulation (e.g., The Sims)',\n",
       " 'First-Person Shooter (FPS), Sports',\n",
       " 'Action/Adventure, First-Person Shooter (FPS), Role-Playing Games (RPG), Puzzle/Strategy, Simulation (e.g., The Sims), MMO (Massively Multiplayer Online)']"
      ]
     },
     "execution_count": 178,
     "metadata": {},
     "output_type": "execute_result"
    }
   ],
   "source": [
    "dfmod_normalized[\"What genres of video games do you play?\"].unique().tolist()"
   ]
  },
  {
   "cell_type": "code",
   "execution_count": 179,
   "metadata": {},
   "outputs": [
    {
     "name": "stderr",
     "output_type": "stream",
     "text": [
      "<>:1: SyntaxWarning: invalid escape sequence '\\('\n",
      "<>:1: SyntaxWarning: invalid escape sequence '\\('\n",
      "C:\\Users\\ASAD\\AppData\\Local\\Temp\\ipykernel_8528\\1820038491.py:1: SyntaxWarning: invalid escape sequence '\\('\n",
      "  dfmod_normalized[\"What genres of video games do you play?\"] = dfmod_normalized[\"What genres of video games do you play?\"].replace(\"Simulation \\(e.g., The Sims\\)\",\"Simulation\",regex= True)\n"
     ]
    },
    {
     "data": {
      "text/plain": [
       "array(['Sports', 'Puzzle/Strategy, Simulation',\n",
       "       'First-Person Shooter (FPS)', 'Puzzle/Strategy',\n",
       "       'Action/Adventure, First-Person Shooter (FPS), Role-Playing Games (RPG)',\n",
       "       'Action/Adventure, First-Person Shooter (FPS), Role-Playing Games (RPG), MMO (Massively Multiplayer Online)',\n",
       "       'First-Person Shooter (FPS), Role-Playing Games (RPG), Simulation',\n",
       "       'Action/Adventure, MMO (Massively Multiplayer Online)',\n",
       "       'Action/Adventure, Sports, MMO (Massively Multiplayer Online)',\n",
       "       'Action/Adventure, Role-Playing Games (RPG), MMO (Massively Multiplayer Online)',\n",
       "       'Action/Adventure, Role-Playing Games (RPG)',\n",
       "       'Action/Adventure, First-Person Shooter (FPS), Puzzle/Strategy',\n",
       "       'MMO (Massively Multiplayer Online)',\n",
       "       'Action/Adventure, First-Person Shooter (FPS), Puzzle/Strategy, MMO (Massively Multiplayer Online)',\n",
       "       'Action/Adventure, First-Person Shooter (FPS)',\n",
       "       'Action/Adventure, Sports',\n",
       "       'Action/Adventure, Puzzle/Strategy, Simulation',\n",
       "       'First-Person Shooter (FPS), Sports',\n",
       "       'Action/Adventure, First-Person Shooter (FPS), Role-Playing Games (RPG), Puzzle/Strategy, Simulation, MMO (Massively Multiplayer Online)'],\n",
       "      dtype=object)"
      ]
     },
     "execution_count": 179,
     "metadata": {},
     "output_type": "execute_result"
    }
   ],
   "source": [
    "dfmod_normalized[\"What genres of video games do you play?\"] = dfmod_normalized[\"What genres of video games do you play?\"].replace(\"Simulation \\(e.g., The Sims\\)\",\"Simulation\",regex= True)\n",
    "dfmod_normalized[\"What genres of video games do you play?\"].unique()"
   ]
  },
  {
   "cell_type": "code",
   "execution_count": 180,
   "metadata": {},
   "outputs": [],
   "source": [
    "dfmod_normalized[[\"Game Genere 1\",\"Game Genere 2\",\"Game Genere 3\",\"Game Genere 4\",\"Game Genere 5\",\"Game Genere 6\"]] =  dfmod_normalized[\"What genres of video games do you play?\"].str.split(',',expand=True)"
   ]
  },
  {
   "cell_type": "code",
   "execution_count": 181,
   "metadata": {},
   "outputs": [],
   "source": [
    "dfmod_normalized.drop(columns=[\"What genres of video games do you play?\",\"Game Genere 4\",\"Game Genere 5\",\"Game Genere 6\"], axis=1, inplace=True)"
   ]
  },
  {
   "cell_type": "markdown",
   "metadata": {},
   "source": [
    "## 9. How do you discover new games?"
   ]
  },
  {
   "cell_type": "code",
   "execution_count": 182,
   "metadata": {},
   "outputs": [
    {
     "data": {
      "text/plain": [
       "['Social Media, Gaming Forums',\n",
       " 'Social Media',\n",
       " 'Gaming Forums',\n",
       " 'Friends/Family Recommendations',\n",
       " 'Social Media, Gaming Forums, Game Reviews/Blogs, YouTube/Streaming platforms (Twitch, etc.)',\n",
       " 'Gaming Forums, YouTube/Streaming platforms (Twitch, etc.)',\n",
       " 'Social Media, Friends/Family Recommendations',\n",
       " 'Gaming Forums, Game Reviews/Blogs',\n",
       " 'Social Media, Gaming Forums, Friends/Family Recommendations, Game Reviews/Blogs, YouTube/Streaming platforms (Twitch, etc.)',\n",
       " 'I search myself from playstore ',\n",
       " 'Friends/Family Recommendations, YouTube/Streaming platforms (Twitch, etc.)',\n",
       " 'YouTube/Streaming platforms (Twitch, etc.)',\n",
       " 'Social Media, Gaming Forums, Game Reviews/Blogs, YouTube/Streaming platforms (Twitch, etc.), my own ways!!!']"
      ]
     },
     "execution_count": 182,
     "metadata": {},
     "output_type": "execute_result"
    }
   ],
   "source": [
    "dfmod_normalized[\"How do you discover new games?\"].unique().tolist()"
   ]
  },
  {
   "cell_type": "code",
   "execution_count": 183,
   "metadata": {},
   "outputs": [
    {
     "name": "stderr",
     "output_type": "stream",
     "text": [
      "<>:1: SyntaxWarning: invalid escape sequence '\\('\n",
      "<>:1: SyntaxWarning: invalid escape sequence '\\('\n",
      "C:\\Users\\ASAD\\AppData\\Local\\Temp\\ipykernel_8528\\1575821756.py:1: SyntaxWarning: invalid escape sequence '\\('\n",
      "  dfmod_normalized[\"How do you discover new games?\"] = dfmod_normalized[\"How do you discover new games?\"].replace(\"YouTube/Streaming platforms \\(Twitch, etc.\\)\",\"Streaming platforms\",regex=True)\n"
     ]
    }
   ],
   "source": [
    "dfmod_normalized[\"How do you discover new games?\"] = dfmod_normalized[\"How do you discover new games?\"].replace(\"YouTube/Streaming platforms \\(Twitch, etc.\\)\",\"Streaming platforms\",regex=True)"
   ]
  },
  {
   "cell_type": "code",
   "execution_count": 184,
   "metadata": {},
   "outputs": [
    {
     "data": {
      "text/plain": [
       "array(['Social Media, Gaming Forums', 'Social Media', 'Gaming Forums',\n",
       "       'Friends/Family Recommendations',\n",
       "       'Social Media, Gaming Forums, Game Reviews/Blogs, Streaming platforms',\n",
       "       'Gaming Forums, Streaming platforms',\n",
       "       'Social Media, Friends/Family Recommendations',\n",
       "       'Gaming Forums, Game Reviews/Blogs',\n",
       "       'Social Media, Gaming Forums, Friends/Family Recommendations, Game Reviews/Blogs, Streaming platforms',\n",
       "       'I search myself from playstore ',\n",
       "       'Friends/Family Recommendations, Streaming platforms',\n",
       "       'Streaming platforms',\n",
       "       'Social Media, Gaming Forums, Game Reviews/Blogs, Streaming platforms, my own ways!!!'],\n",
       "      dtype=object)"
      ]
     },
     "execution_count": 184,
     "metadata": {},
     "output_type": "execute_result"
    }
   ],
   "source": [
    "dfmod_normalized[\"How do you discover new games?\"].unique()"
   ]
  },
  {
   "cell_type": "code",
   "execution_count": 185,
   "metadata": {},
   "outputs": [],
   "source": [
    "dfmod_normalized[[\"source 1\",\"source 2\",\"source 3\",\"source 4\",\"source 5\"]] = dfmod_normalized[\"How do you discover new games?\"].str.split(',',expand=True)"
   ]
  },
  {
   "cell_type": "code",
   "execution_count": 186,
   "metadata": {},
   "outputs": [],
   "source": [
    "dfmod_normalized.drop(columns=[\"How do you discover new games?\",\"source 2\",\"source 3\",\"source 4\",\"source 5\"], axis=1, inplace=True)"
   ]
  },
  {
   "cell_type": "markdown",
   "metadata": {},
   "source": [
    "## 10. Why do you play video games?"
   ]
  },
  {
   "cell_type": "code",
   "execution_count": 187,
   "metadata": {},
   "outputs": [
    {
     "data": {
      "text/plain": [
       "['For fun/entertainment, To relieve stress',\n",
       " 'To improve skills/competition',\n",
       " 'For fun/entertainment',\n",
       " 'For fun/entertainment, To relieve stress, To socialize with friends, To improve skills/competition',\n",
       " 'To relieve stress',\n",
       " 'For fun/entertainment, To socialize with friends, To improve skills/competition',\n",
       " 'For fun/entertainment, To improve skills/competition',\n",
       " 'If no other better work ',\n",
       " 'For fun/entertainment, To relieve stress, To improve skills/competition',\n",
       " \"For fun/entertainment, To improve skills/competition, learning how it's designed, etc\",\n",
       " 'If no other better work',\n",
       " 'To relieve stress, For fun/entertainment, To improve skills/competition',\n",
       " 'To socialize, To improve skills/competition, For fun/entertainment',\n",
       " 'To socialize, To relieve stress',\n",
       " 'To improve skills/competition, For fun/entertainment',\n",
       " 'To improve skills/competition, To socialize',\n",
       " 'To relieve stress, To socialize',\n",
       " 'To socialize, For fun/entertainment',\n",
       " 'To relieve stress, For fun/entertainment, To socialize',\n",
       " 'To improve skills/competition, For fun/entertainment, To relieve stress',\n",
       " 'To socialize, To relieve stress, For fun/entertainment',\n",
       " 'To improve skills/competition, For fun/entertainment, To socialize',\n",
       " 'For fun/entertainment, To socialize',\n",
       " 'To relieve stress, To socialize, To improve skills/competition',\n",
       " 'To relieve stress, To improve skills/competition',\n",
       " 'To improve skills/competition, To relieve stress, To socialize',\n",
       " 'To socialize',\n",
       " 'To improve skills/competition, To relieve stress',\n",
       " 'For fun/entertainment, To socialize, To relieve stress',\n",
       " 'To relieve stress, To improve skills/competition, To socialize',\n",
       " 'To relieve stress, For fun/entertainment',\n",
       " 'For fun/entertainment, To socialize, To improve skills/competition',\n",
       " 'To socialize, To improve skills/competition']"
      ]
     },
     "execution_count": 187,
     "metadata": {},
     "output_type": "execute_result"
    }
   ],
   "source": [
    "dfmod_normalized[\"Why do you play video games?\"].unique().tolist()"
   ]
  },
  {
   "cell_type": "code",
   "execution_count": 188,
   "metadata": {},
   "outputs": [],
   "source": [
    "dfmod_normalized[[\"Purpose 1\", \"Purpose 2\"]] = (\n",
    "    dfmod_normalized[\"Why do you play video games?\"].str.split(\",\", expand=True).iloc[:, :2]  # Limit to the maximum number of target columns\n",
    ")\n"
   ]
  },
  {
   "cell_type": "code",
   "execution_count": 189,
   "metadata": {},
   "outputs": [],
   "source": [
    "dfmod_normalized.drop(columns=\"Why do you play video games?\",axis=1,inplace=True)"
   ]
  },
  {
   "cell_type": "code",
   "execution_count": 190,
   "metadata": {},
   "outputs": [],
   "source": [
    "dfmod_normalized.to_excel('..\\\\data\\\\raw\\\\Gaming_Survey_normalized.xlsx' , sheet_name=\"Sheet1\" )"
   ]
  }
 ],
 "metadata": {
  "kernelspec": {
   "display_name": "Python 3",
   "language": "python",
   "name": "python3"
  },
  "language_info": {
   "codemirror_mode": {
    "name": "ipython",
    "version": 3
   },
   "file_extension": ".py",
   "mimetype": "text/x-python",
   "name": "python",
   "nbconvert_exporter": "python",
   "pygments_lexer": "ipython3",
   "version": "3.12.4"
  }
 },
 "nbformat": 4,
 "nbformat_minor": 2
}
